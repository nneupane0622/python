{
 "cells": [
  {
   "cell_type": "code",
   "execution_count": 11,
   "id": "44722810",
   "metadata": {},
   "outputs": [],
   "source": [
    "class Ant:\n",
    "    total=0\n",
    "    def __init__(self, name, isAngry=False, speed=None, loc=None, iq=None, color='Red'):#initialization \n",
    "        self.name=name\n",
    "        self.isAngry=isAngry\n",
    "        self.speed = speed\n",
    "        self.loc = loc # tuple (x, y)\n",
    "        self.iq = iq \n",
    "        self._color=color\n",
    "        Ant.total+=1\n",
    "        #self.nest = nest\n",
    "        #print(f\"Hi, I am {self.name}, and I am {self._color}\")\n",
    "        \n",
    "    def __str__ (self): # just to display the output instead of <object at 0x0000028180D869A0>\n",
    "        return (f\"Ant(Name: {self.name} Angryness:{self.isAngry} Speed: {self.speed} loc: {self.loc} color: {self._color} )\")\n",
    "\n",
    "    \n",
    "    def move(self, mv):\n",
    "        self.loc = (self.loc[0] + mv[0], self.loc[1] + mv[1])\n",
    "        \n",
    "class Nest(): \n",
    "    \n",
    "    def __init__ (self, name, ants=None ):\n",
    "        self.name=name\n",
    "        print (\"Nest Info\")\n",
    "        if ants is None:\n",
    "            self.ants=[]\n",
    "        else:\n",
    "            self.ants=[ants]\n",
    "            \n",
    "    def __str__ (self):\n",
    "        return (f\"Nest(Name: {self.name} TOTAL NUMBER OF ANTS: {len(self.ants)})\")\n",
    " \n",
    "    def add_ants(self, antobj):\n",
    "        if  antobj not in self.ants:\n",
    "                if type(antobj) is not list:\n",
    "                    self.ants.append( antobj)\n",
    "                else:\n",
    "                    self.ants.extend(antobj)\n",
    "        self.ants=list(set(self.ants))# removing duplicates when passed as a list of objects\n",
    "        print('ant object is added')\n",
    "\n",
    "            \n",
    "            \n",
    "    def display_ants(self):\n",
    "            print('Total Ants:', len(self.ants))\n",
    "            for A in self.ants:\n",
    "                print('-->', A) #printing the name of the object Ant\n",
    "                                \n",
    "\n"
   ]
  },
  {
   "cell_type": "code",
   "execution_count": 24,
   "id": "98ad46ac",
   "metadata": {},
   "outputs": [
    {
     "name": "stdout",
     "output_type": "stream",
     "text": [
      "Ant(Name: Ant#1 Angryness:False Speed: 15 loc: (12, 24) color: Red )\n",
      "Ant(Name: Ant#2 Angryness:False Speed: 30 loc: (-23, 15) color: Red )\n",
      "Ant(Name: Ant#2 Angryness:False Speed: 30 loc: (-3, 18) color: Red )\n",
      "Nest Info\n",
      "ant object is added\n",
      "ant object is added\n",
      "Total Ants: 3\n",
      "--> Ant(Name: Ant#1 Angryness:False Speed: 15 loc: (12, 24) color: Purpleeeeeeeee )\n",
      "--> Ant(Name: Ant#3 Angryness:True Speed: None loc: None color: Blue )\n",
      "--> Ant(Name: Ant#2 Angryness:False Speed: 30 loc: (-3, 18) color: Red )\n",
      "Nest Info\n",
      "Nest(Name: PrertyOne TOTAL NUMBER OF ANTS: 1)\n",
      "ant object is added\n",
      "ant object is added\n",
      "ant object is added\n",
      "Total Ants: 4\n",
      "--> Ant(Name: Ant#1 Angryness:False Speed: 15 loc: (12, 24) color: Purpleeeeeeeee )\n",
      "--> Ant(Name: Ant#3 Angryness:True Speed: None loc: None color: Blue )\n",
      "--> Ant(Name: Ant#2 Angryness:False Speed: 30 loc: (-3, 18) color: Red )\n",
      "--> Ant(Name: Ant#12 Angryness:True Speed: 30 loc: (12, 43) color: Green )\n"
     ]
    },
    {
     "data": {
      "text/plain": [
       "404"
      ]
     },
     "execution_count": 24,
     "metadata": {},
     "output_type": "execute_result"
    }
   ],
   "source": [
    "ant1=Ant(\"Ant#1\", False,15, (12,24),80)\n",
    "print(ant1)\n",
    "#print(ant1.__class__)\n",
    "               \n",
    "ant2=Ant(\"Ant#2\",False, 30,(-23,15),56)\n",
    "ant3=Ant(\"Ant#3\",True,color='Blue')\n",
    "ant4=Ant(\"Ant#12\", True, 30, (12,43),100, color='Green')\n",
    "print(ant2)\n",
    "ant1._color='Purpleeeeeeeee'\n",
    "ant2.move((20,3))\n",
    "print(ant2)\n",
    "nest1= Nest(\"nest#1\", ant1)\n",
    "nest1.add_ants(ant2)\n",
    "nest1.add_ants(ant3)\n",
    "nest1.display_ants()\n",
    "#print(nest1)\n",
    "nest2=Nest('PrertyOne',ant4)\n",
    "print(nest2)\n",
    "nest2.add_ants([ant1,ant2, ant3])\n",
    "nest2.add_ants([ant1,ant2])\n",
    "nest2.add_ants([ant1,ant3])\n",
    "nest2.display_ants()\n",
    "Ant.total"
   ]
  },
  {
   "cell_type": "code",
   "execution_count": 23,
   "id": "81aab760",
   "metadata": {},
   "outputs": [
    {
     "data": {
      "text/plain": [
       "400"
      ]
     },
     "execution_count": 23,
     "metadata": {},
     "output_type": "execute_result"
    }
   ],
   "source": [
    "from random import random, randint, choice\n",
    "\n",
    "list_ants=[Ant(f'Ant#{x+1}', [True,False][randint(0,1)], speed= x*x, loc=150-x, color= choice(['Blue','Cyan', 'LightB']) ) for x in range(100)]\n",
    "\n",
    "Ant.total"
   ]
  },
  {
   "cell_type": "code",
   "execution_count": null,
   "id": "66e7df71",
   "metadata": {},
   "outputs": [],
   "source": []
  }
 ],
 "metadata": {
  "kernelspec": {
   "display_name": "Python 3",
   "language": "python",
   "name": "python3"
  },
  "language_info": {
   "codemirror_mode": {
    "name": "ipython",
    "version": 3
   },
   "file_extension": ".py",
   "mimetype": "text/x-python",
   "name": "python",
   "nbconvert_exporter": "python",
   "pygments_lexer": "ipython3",
   "version": "3.8.8"
  }
 },
 "nbformat": 4,
 "nbformat_minor": 5
}
